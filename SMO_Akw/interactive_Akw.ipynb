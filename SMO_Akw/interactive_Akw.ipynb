{
 "cells": [
  {
   "cell_type": "code",
   "execution_count": 1,
   "metadata": {},
   "outputs": [
    {
     "name": "stdout",
     "output_type": "stream",
     "text": [
      "The history saving thread hit an unexpected error (DatabaseError('database disk image is malformed')).History will not be written to the database.\n"
     ]
    }
   ],
   "source": [
    "import numpy as np\n",
    "\n",
    "from ipywidgets import *\n",
    "%matplotlib widget\n",
    "\n",
    "import matplotlib.pyplot as plt\n",
    "from matplotlib.colors import LogNorm\n",
    "from matplotlib import cm, colors\n",
    "\n",
    "np.set_printoptions(precision=6,suppress=True, linewidth=140)\n",
    "# set matplotlib parameters\n",
    "params = {'backend': 'svg',\n",
    "          'axes.labelsize': 14,\n",
    "          'lines.linewidth': 2,\n",
    "          'lines.markersize':8,\n",
    "          'xtick.top': True,\n",
    "          'ytick.right': True,\n",
    "          'ytick.direction': 'in',\n",
    "          'xtick.direction': 'in',\n",
    "          'font.size': 14,\n",
    "          'legend.fontsize': 12,\n",
    "          'xtick.labelsize': 14,\n",
    "          'ytick.labelsize': 14,\n",
    "          'text.usetex': False,\n",
    "          'text.latex.preamble' : [r'\\usepackage{mathpazo}',r'\\usepackage{amsmath}'],\n",
    "          'font.family': 'serif'}\n",
    "#           'font.sans-serif': ['Computer Modern serif']}\n",
    "plt.rcParams.update(params)"
   ]
  },
  {
   "cell_type": "markdown",
   "metadata": {},
   "source": [
    "# $\\Gamma X$"
   ]
  },
  {
   "cell_type": "code",
   "execution_count": 2,
   "metadata": {},
   "outputs": [],
   "source": [
    "Akw_GX_raw = np.load('Akw_GX.npy')\n",
    "# BZ vector length\n",
    "b_len = 1.580162\n",
    "kpts_GX = np.array(Akw_GX_raw[1:,0])/b_len\n",
    "w_mesh_GX = np.array(Akw_GX_raw[0,1:])\n",
    "Akw_GX = np.array(Akw_GX_raw[1:,1:])"
   ]
  },
  {
   "cell_type": "code",
   "execution_count": 3,
   "metadata": {},
   "outputs": [
    {
     "data": {
      "application/vnd.jupyter.widget-view+json": {
       "model_id": "c7b66a054f1d45dfb2d6ebff83d0af43",
       "version_major": 2,
       "version_minor": 0
      },
      "text/plain": [
       "Canvas(toolbar=Toolbar(toolitems=[('Home', 'Reset original view', 'home', 'home'), ('Back', 'Back to previous …"
      ]
     },
     "metadata": {},
     "output_type": "display_data"
    }
   ],
   "source": [
    "fig1, ax1 = plt.subplots(1,figsize=(10,6))\n",
    "\n",
    "ax1.axhline(y=0,c='gray',ls='--',lw=0.8)\n",
    "ax1.set_ylabel(r'$\\omega - \\mu$ (eV)')\n",
    "\n",
    "ax1.set_xticks([0,kpts_GX[-1]])\n",
    "ax1.set_xlim(0, kpts_GX[-1])\n",
    "ax1.set_xticklabels([r'$\\Gamma$',r'$X$'])\n",
    "\n",
    "kw_x, kw_y = np.meshgrid(kpts_GX, w_mesh_GX)\n",
    "graph = ax1.pcolormesh(kw_x, kw_y, Akw_GX.T, cmap='coolwarm', shading='auto', \n",
    "                      norm=LogNorm(vmin=0.1, vmax=np.max(Akw_GX)))\n",
    "colorbar = plt.colorbar(graph)\n",
    "colorbar.set_label(r'$A(k, \\omega)$')\n",
    "\n",
    "plt.show()"
   ]
  },
  {
   "cell_type": "code",
   "execution_count": 4,
   "metadata": {},
   "outputs": [
    {
     "data": {
      "application/vnd.jupyter.widget-view+json": {
       "model_id": "48976073faae43e9be67d533be8b8c12",
       "version_major": 2,
       "version_minor": 0
      },
      "text/plain": [
       "Canvas(toolbar=Toolbar(toolitems=[('Home', 'Reset original view', 'home', 'home'), ('Back', 'Back to previous …"
      ]
     },
     "metadata": {},
     "output_type": "display_data"
    },
    {
     "data": {
      "application/vnd.jupyter.widget-view+json": {
       "model_id": "9bed89dad438436e998de1fab12c7d75",
       "version_major": 2,
       "version_minor": 0
      },
      "text/plain": [
       "interactive(children=(IntSlider(value=0, description='k value', layout=Layout(width='600px'), max=299), Output…"
      ]
     },
     "metadata": {},
     "output_type": "display_data"
    }
   ],
   "source": [
    "fig2, ax2 = plt.subplots(1,figsize=(8,5))\n",
    "ax2.set_xlim(w_mesh_GX[0], w_mesh_GX[-1])\n",
    "ax2.set_ylim(0,np.max(Akw_GX))\n",
    "\n",
    "ax2.set_title(r'$A(\\omega,k=x)$')\n",
    "ax2.set_xlabel(r'$\\omega$')\n",
    "ax2.set_ylabel(r'$A(\\omega,k)$')\n",
    "ax2.xaxis.set_ticks_position('both')\n",
    "ax2.yaxis.set_ticks_position('both')\n",
    "ax2.tick_params(direction='in',pad=2)\n",
    "\n",
    "slider_GX = widgets.IntSlider(min=0,max=len(kpts_GX)-1,step=1,value=0,description=r'k value',layout=Layout(width='600px'))\n",
    "@widgets.interact(kpt_GX=slider_GX)\n",
    "def update(kpt_GX):\n",
    "    \"\"\"Remove old lines from plot and plot new one\"\"\"\n",
    "    [l.remove() for l in ax2.lines]\n",
    "    ax2.plot(w_mesh_GX, Akw_GX[kpt_GX,:], color='C0',label='k= {:.3f}'.format(kpts_GX[kpt_GX]))\n",
    "    ax2.legend(loc='upper right', fancybox=True)"
   ]
  },
  {
   "cell_type": "code",
   "execution_count": 5,
   "metadata": {},
   "outputs": [
    {
     "data": {
      "application/vnd.jupyter.widget-view+json": {
       "model_id": "d8c147b3ac724e968cfb495381625367",
       "version_major": 2,
       "version_minor": 0
      },
      "text/plain": [
       "Canvas(toolbar=Toolbar(toolitems=[('Home', 'Reset original view', 'home', 'home'), ('Back', 'Back to previous …"
      ]
     },
     "metadata": {},
     "output_type": "display_data"
    },
    {
     "data": {
      "application/vnd.jupyter.widget-view+json": {
       "model_id": "ba404f56c4954ae3bb30add86d6cea45",
       "version_major": 2,
       "version_minor": 0
      },
      "text/plain": [
       "interactive(children=(IntSlider(value=0, description='$\\\\omega$', layout=Layout(width='600px'), max=2000), Out…"
      ]
     },
     "metadata": {},
     "output_type": "display_data"
    }
   ],
   "source": [
    "fig3, ax3 = plt.subplots(1,figsize=(8,5))\n",
    "ax3.set_xlim(kpts_GX[0]-0.01, kpts_GX[-1]+0.01)\n",
    "ax3.set_ylim(0,np.max(Akw_GX))\n",
    "\n",
    "ax3.set_title(r'$A(\\omega=x,k)$')\n",
    "ax3.set_xlabel(r'$|k_{\\Gamma X}|$')\n",
    "ax3.set_ylabel(r'$A(\\omega,k)$')\n",
    "ax3.xaxis.set_ticks_position('both')\n",
    "ax3.yaxis.set_ticks_position('both')\n",
    "ax3.tick_params(direction='in',pad=2)\n",
    "\n",
    "slider = widgets.IntSlider(min=0,max=len(w_mesh_GX)-1,step=1,value=0,description=r'$\\omega$',layout=Layout(width='600px'))\n",
    "@widgets.interact(w_GX=slider)\n",
    "def update(w_GX = 0):\n",
    "    \"\"\"Remove old lines from plot and plot new one\"\"\"\n",
    "    [l.remove() for l in ax3.lines]\n",
    "    ax3.plot(kpts_GX, Akw_GX[:,w_GX], color='C0',label='$\\omega=${:4.2f}'.format(w_mesh_GX[w_GX]))\n",
    "    ax3.legend(loc='upper right', fancybox=True)"
   ]
  },
  {
   "cell_type": "markdown",
   "metadata": {},
   "source": [
    "# $\\Gamma M$"
   ]
  },
  {
   "cell_type": "code",
   "execution_count": 6,
   "metadata": {},
   "outputs": [],
   "source": [
    "Akw_GM_raw = np.load('Akw_GM.npy')\n",
    "# BZ vector length\n",
    "b_len = 1.580162\n",
    "kpts_GM = np.array(Akw_GM_raw[1:,0])/b_len\n",
    "w_mesh_GM = np.array(Akw_GM_raw[0,1:])\n",
    "Akw_GM = np.array(Akw_GM_raw[1:,1:])"
   ]
  },
  {
   "cell_type": "code",
   "execution_count": 7,
   "metadata": {},
   "outputs": [
    {
     "data": {
      "application/vnd.jupyter.widget-view+json": {
       "model_id": "8ceef440c0fe407aacf8a2fbfff808ba",
       "version_major": 2,
       "version_minor": 0
      },
      "text/plain": [
       "Canvas(toolbar=Toolbar(toolitems=[('Home', 'Reset original view', 'home', 'home'), ('Back', 'Back to previous …"
      ]
     },
     "metadata": {},
     "output_type": "display_data"
    }
   ],
   "source": [
    "fig4, ax4 = plt.subplots(1,figsize=(10,6))\n",
    "\n",
    "ax4.axhline(y=0,c='gray',ls='--',lw=0.8)\n",
    "ax4.set_ylabel(r'$\\omega - \\mu$ (eV)')\n",
    "\n",
    "ax4.set_xticks([0,kpts_GM[-1]])\n",
    "ax4.set_xlim(0, kpts_GM[-1])\n",
    "ax4.set_xticklabels([r'$\\Gamma$',r'$M$'])\n",
    "\n",
    "kw_x, kw_y = np.meshgrid(kpts_GM, w_mesh_GM)\n",
    "graph = ax4.pcolormesh(kw_x, kw_y, Akw_GM.T, cmap='coolwarm', shading='auto', \n",
    "                      norm=LogNorm(vmin=0.1, vmax=np.max(Akw_GM)))\n",
    "colorbar = plt.colorbar(graph)\n",
    "colorbar.set_label(r'$A(k, \\omega)$')        \n",
    "plt.show()"
   ]
  },
  {
   "cell_type": "code",
   "execution_count": 8,
   "metadata": {},
   "outputs": [
    {
     "data": {
      "application/vnd.jupyter.widget-view+json": {
       "model_id": "f7eb67d70870479d8bd29a25682f0c08",
       "version_major": 2,
       "version_minor": 0
      },
      "text/plain": [
       "Canvas(toolbar=Toolbar(toolitems=[('Home', 'Reset original view', 'home', 'home'), ('Back', 'Back to previous …"
      ]
     },
     "metadata": {},
     "output_type": "display_data"
    },
    {
     "data": {
      "application/vnd.jupyter.widget-view+json": {
       "model_id": "3ba7d782d4934754b308a45bee86b851",
       "version_major": 2,
       "version_minor": 0
      },
      "text/plain": [
       "interactive(children=(IntSlider(value=0, description='k value', layout=Layout(width='600px'), max=299), Output…"
      ]
     },
     "metadata": {},
     "output_type": "display_data"
    }
   ],
   "source": [
    "fig5, ax5 = plt.subplots(1,figsize=(8,5))\n",
    "ax5.set_xlim(w_mesh_GM[0], w_mesh_GM[-1])\n",
    "ax5.set_ylim(0,np.max(Akw_GM))\n",
    "\n",
    "ax5.set_title(r'$A(\\omega,k=x)$')\n",
    "ax5.set_xlabel(r'$\\omega$')\n",
    "ax5.set_ylabel(r'$A(\\omega,k)$')\n",
    "ax5.xaxis.set_ticks_position('both')\n",
    "ax5.yaxis.set_ticks_position('both')\n",
    "ax5.tick_params(direction='in',pad=2)\n",
    "\n",
    "\n",
    "slider_GM = widgets.IntSlider(min=0,max=len(kpts_GM)-1,step=1,value=0,description=r'k value',layout=Layout(width='600px'))\n",
    "@widgets.interact(kpt_GM=slider_GM)\n",
    "def update(kpt_GM):\n",
    "    \"\"\"Remove old lines from plot and plot new one\"\"\"\n",
    "    [l.remove() for l in ax5.lines]\n",
    "    ax5.plot(w_mesh_GM, Akw_GM[kpt_GM,:], color='C0',label='k= {:.3f}'.format(kpts_GM[kpt_GM]))\n",
    "    ax5.legend(loc='upper right', fancybox=True)"
   ]
  },
  {
   "cell_type": "code",
   "execution_count": 9,
   "metadata": {},
   "outputs": [
    {
     "data": {
      "application/vnd.jupyter.widget-view+json": {
       "model_id": "7fa8ea6b39304747b52f8d0eb13ce5f1",
       "version_major": 2,
       "version_minor": 0
      },
      "text/plain": [
       "Canvas(toolbar=Toolbar(toolitems=[('Home', 'Reset original view', 'home', 'home'), ('Back', 'Back to previous …"
      ]
     },
     "metadata": {},
     "output_type": "display_data"
    },
    {
     "data": {
      "application/vnd.jupyter.widget-view+json": {
       "model_id": "bd8f0ab0fa9c43dca535b07bbfc37acb",
       "version_major": 2,
       "version_minor": 0
      },
      "text/plain": [
       "interactive(children=(IntSlider(value=0, description='$\\\\omega$', layout=Layout(width='600px'), max=2000), Out…"
      ]
     },
     "metadata": {},
     "output_type": "display_data"
    }
   ],
   "source": [
    "fig6, ax6 = plt.subplots(1,figsize=(8,5))\n",
    "ax6.set_xlim(kpts_GM[0]-0.01, kpts_GM[-1]+0.01)\n",
    "ax6.set_ylim(0,np.max(Akw_GM))\n",
    "\n",
    "ax6.set_title(r'$A(\\omega=x,k)$')\n",
    "ax6.set_xlabel(r'$|k_{\\Gamma M}|$')\n",
    "ax6.set_ylabel(r'$A(\\omega,k)$')\n",
    "ax6.xaxis.set_ticks_position('both')\n",
    "ax6.yaxis.set_ticks_position('both')\n",
    "ax6.tick_params(direction='in',pad=2)\n",
    "\n",
    "slider_GM = widgets.IntSlider(min=0,max=len(w_mesh_GM)-1,step=1,value=0,description=r'$\\omega$',layout=Layout(width='600px'))\n",
    "@widgets.interact(w_GM=slider_GM)\n",
    "def update(w_GM = 0):\n",
    "    \"\"\"Remove old lines from plot and plot new one\"\"\"\n",
    "    [l.remove() for l in ax6.lines]\n",
    "    ax6.plot(kpts_GM, Akw_GM[:,w_GM], color='C0',label='$\\omega=${:4.2f}'.format(w_mesh_GM[w_GM]))\n",
    "    ax6.legend(loc='upper right', fancybox=True)"
   ]
  },
  {
   "cell_type": "code",
   "execution_count": null,
   "metadata": {},
   "outputs": [],
   "source": []
  }
 ],
 "metadata": {
  "kernelspec": {
   "display_name": "Python 3",
   "language": "python",
   "name": "python3"
  },
  "language_info": {
   "codemirror_mode": {
    "name": "ipython",
    "version": 3
   },
   "file_extension": ".py",
   "mimetype": "text/x-python",
   "name": "python",
   "nbconvert_exporter": "python",
   "pygments_lexer": "ipython3",
   "version": "3.7.3"
  }
 },
 "nbformat": 4,
 "nbformat_minor": 5
}
